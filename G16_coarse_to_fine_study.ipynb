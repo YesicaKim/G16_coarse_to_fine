{
 "cells": [
  {
   "cell_type": "markdown",
   "metadata": {},
   "source": [
    "# 불안한 시선 이펙트 추가하기\n",
    "\n",
    "- 지난 시간에 이어서 눈동자를 검출 할 수 있는 방법에 대해 다루겠습니다. 이런 태스크를 위해 꼭 필요한 데이터셋이 충분히 갖추어져 있지 않은 상황을 우리는 헤쳐나가야 합니다.\n",
    "\n",
    "## 학습 목표\n",
    "\n",
    "    1. 공개 데이터 사용해서 라벨 직접 모아보기\n",
    "    2. 색상 값을 이용한 검출 방법\n",
    "    3. 라벨링 툴 만들기 - point selection\n",
    "    4. 째려보는 효과 구현하기"
   ]
  },
  {
   "cell_type": "markdown",
   "metadata": {},
   "source": [
    "# 평가 루브릭\n",
    "\n",
    "아래의 기준을 바탕으로 프로젝트를 평가합니다.\n",
    "\n",
    "## 평가문항\t상세기준\n",
    "1. mean-shift를 활용하여 눈동자 검출 라벨링 추가작업을 원활히 진행하였다.: 눈이미지-라벨이미지 쌍의 추가데이터셋을 10000건 이상 충분히 확보하였다.\n",
    "2. 눈동자 키포인트 검출 딥러닝 모델이 구현되어 안정적으로 학습이 진행되었다. : pretrained model 기반의 딥러닝 모델의 트레이닝 loss가 안정적으로 감소함을 확인하였다.\n",
    "3. 모델이 검출한 눈 위치에 당황한 표정효과 눈 이미지를 합성한 이미지를 생성하였다. : 사람 얼굴 이미지에서 딥러닝 모델로 눈동자 키포인트를 검출하여 눈 이미지를 자연스럽게 합성한 결과이미지를 생성하였다."
   ]
  },
  {
   "cell_type": "markdown",
   "metadata": {},
   "source": [
    "# 위치 측정을 위한 라벨링 툴 만들기 (1) OpenCV 사용\n",
    "\n",
    "- ❗️ 이번 시간에는 주피터 커널 대신 코드 에디터와 터미널을 사용해 주세요. 아래 있는 코드를 붙여넣어 적절한 파일로 저장 후 사용하시면 됩니다.\n",
    "\n",
    "- 지난 이론 시간에 True/False를 라벨링(labeling)할 수 있는 도구를 만들었습니다. 품질이 좋지 못한 데이터에 위치를 직접 입력하려면 어떻게 해야 할까요? 눈동자 위치를 선택할 수 있는 도구를 만들어 보겠습니다.\n",
    "\n",
    "- 예를 들어, 아래와 같은 눈 이미지가 있습니다.\n",
    "- 기존 예측 결과는 이상한 곳을 측정했습니다. 이런 경우 눈동자 위치를 새로 지정해서 fine 라벨로 만들어야 합니다.\n",
    "- 정확한 곳을 지정하기 위해서 마우스를 사용해야 할 것 같은데.. 마우스 이벤트를 사용하는 방법이 있을까요?\n",
    "- 다행히 OpenCV에서 마우스 이벤트를 callback 함수 형태로 지원합니다.\n",
    "    - callback 함수: 어떤 이벤트에 의해 호출되어지는 함수, 다른 함수의 인자로 이용되는 함수\n",
    "    - OpenCV에서 마우스 이벤트를 확인하고 callback을 호출하는 함수: cv2.setMouseCallback\n",
    "    - OpenCV에서 마우스 왼쪽 버튼이 눌러졌을 때 on 되는 flag: cv2.EVENT_LBUTTONDOWN"
   ]
  },
  {
   "cell_type": "markdown",
   "metadata": {},
   "source": [
    "# 위치 측정을 위한 라벨링 툴 만들기 (2) 툴 만들기\n",
    "\n",
    "- 이제 OpenCV의 마우스 이벤트를 이용해서 라벨링 툴(labeling tool)을 만들어보겠습니다.\n",
    "\n",
    "- keypoint_using_mouse.py는 필요한 패키지를 불러옵니다. 주로 cv2 를 이용합니다. 이번에는 기존 라벨을 읽지 않고 새로 위치를 정하기 때문에 img_path 만 불러오면 됩니다. flg_button 은 마우스 이벤트가 발생할 때 사용할 불리언(boolean) 타입 전역변수입니다.\n",
    "\n",
    "- 사용할 함수를 만들겠습니다. 해당 함수에서는 먼저 img_path 가 유효한지 체크합니다. img_path 로 디렉토리가 입력될 경우 해당 디렉토리 내의 첫 번째 이미지를 img_path 에 입력하고 경로를 반환합니다. 이미지 간 이동할 move() 함수도 선언합니다.\n",
    "\n",
    "- mouse callback 함수를 정의합니다. 전역변수인 gparam 에는 img와 point 정보를 저장합니다. 마우스 왼쪽 버튼이 눌러졌다 떨어질 때 gparam 의 point 에 x, y 를 리스트로 저장합니다.\n",
    "\n",
    "- main 함수인 blend_view() 를 구현합시다. 마찬가지로 코드를 복사해 keypoint_using_mouse.py에 붙여넣어 주세요.\n",
    "\n",
    "- main 함수인 blend_view() 는 이론 노드에서 만든 라벨링 툴의 구조와 비슷하게 구현했습니다.\n",
    "\n",
    "- 달라진 점은,\n",
    "\n",
    "    - 마우스 이벤트를 사용하기 위해 무한루프를 사용해서 gparam을 입력 받을 수 있게 한 것\n",
    "    - 이미지 변경이 없다면 gparam['point'] 를 초기화하지 않을 것\n",
    "    - 이미지 변경이 없더라도 callback 함수에서 gparam 변경이 일어나는 경우는 수정할 것이 있습니다.\n",
    "\n",
    "- 만든 프로그램을 실행시켜서 마우스로 점을 찍어 봅시다.\n",
    "\n",
    "- 우선 위 이미지를 다운받아, eye.png 이름으로 현재 프로젝트 폴더의 하위 디렉토리인 data 에 저장한 후, 아래 코드를 터미널에서 실행합니다.\n",
    "\n",
    "- 눈동자 지점을 클릭한 후 s를 눌러 저장하면 ~/aiffel/coarse_to_fine/eye_annotation.json 에 레이블이 저장됩니다.\n",
    "\n",
    "- 이제 레이블을 모아서 학습시킬 수 있습니다!"
   ]
  },
  {
   "cell_type": "markdown",
   "metadata": {},
   "source": [
    "# 데이터를 모아보자\n",
    "\n",
    "- 이제 라벨링할 초기 데이터를 수집해야 합니다. 직접 촬영한 데이터를 쓸 수도 있지만 들이는 노력에 비해 데이터가 많이 모이지 않습니다. 때문에 공개된 데이터를 적극적으로 활용할 필요가 있습니다.\n",
    "\n",
    "- 우리가 모아야 할 라벨은 눈동자 위치이기 때문에 아래 순서로 데이터셋을 찾으면 좋습니다.\n",
    "\n",
    "    1. 눈이 crop 되어 있고 눈동자 위치를 라벨로 가지고 있는 데이터\n",
    "    2. 얼굴 랜드마크(face landmark)를 가지고 있는 데이터\n",
    "    3. 얼굴 이미지를 가지고 있는 데이터\n",
    "\n",
    "- 1번에 해당하는 데이터셋은 BioID 가 있습니다.\n",
    "    - BioID는 몇 장의 이미지를 가지고 있나요? 이미지 해상도는 얼마일까요? 1,521장의 gray image, 384x286\n",
    "    - BioID는 몇 명의 사람으로 구성돼 있나요? 23명\n",
    "\n",
    "- BioID의 경우 우리가 해결해야 할 문제를 위한 데이터셋이지만 규모가 너무 작다는 단점이 있습니다. 충분한 양의 이미지를 수집하기 위해 다른 데이터셋도 조사해야 합니다.\n",
    "\n",
    "- 얼굴 랜드마크가 제공되는 데이터를 생각해봅시다. 랜드마크가 제공되는 경우는 눈 부분의 사진을 쉽게 crop해서 사용할 수 있기 때문에 라벨을 쉽게 만들 수 있습니다.\n",
    "\n",
    "## 랜드마크를 제공하는 데이터셋을 찾아보자\n",
    "\n",
    "- 랜드마크를 제공하는 데이터셋을 찾아봅시다. 데이터를 어떻게 찾아가는지 함께 고민하는 것에 집중해주세요.\n",
    "\n",
    "- 우리는 dlib 패키지의 얼굴 랜드마크를 사용해오고 있습니다. 그렇다면 dlib 패키지를 구현하기 위해 사용된 랜드마크는 어떤 데이터셋으로 학습되었을까? 를 생각해보면 간단히 데이터를 찾을 수 있습니다.\n",
    "\n",
    "- 구글에 \"dlib face landmark dataset\"을 검색해봅시다. 검색 첫 페이지에서 아래 링크를 찾을 수 있습니다.\n",
    "    - http://dlib.net/face_landmark_detection.py.html\n",
    "- 주석을 몇 줄 읽어보면 어떤 데이터셋을 사용해서 학습했는지 친절하게 안내되어 있습니다.\n",
    "\n",
    "- iBUG 300-W 라는 데이터셋으로 학습했다고 합니다. 이 데이터셋을 이용하는 방법도 유용할 겁니다.\n",
    "\n",
    "- 이 경우에는 운이 좋았습니다. 하지만 실무에서 대부분의 경우는 내가 풀고자 하는 문제의 관련 도메인 데이터셋이 없기 때문에 위에서 알아본 방법 중 3번 방법도 고려해야 합니다.\n",
    "\n",
    "- 3번 방법을 연습해 보기 위해, 오늘은 LFW 데이터셋을 사용해 봅시다. 이 데이터셋은 안면 인식(face recognition)과 관련된 데이터셋입니다 (해당 사진이 누구의 얼굴인지 판단하는 데이터셋이죠). 얼굴이 포함된 이미지만 있고 얼굴의 랜드마크에 대한 정보는 없는 데이터셋입니다. 이 이미지에 dlib을 적용해서 얼굴 위치와 랜드마크 위치를 찾고 눈을 잘라낸 뒤 라벨링을 할 수 있습니다.\n",
    "\n",
    "- 데이터는 아래 링크에서 다운로드 받을 수 있습니다.\n",
    "    - http://vis-www.cs.umass.edu/lfw/lfw.tgz"
   ]
  },
  {
   "cell_type": "markdown",
   "metadata": {},
   "source": [
    "# Mean-shift를 이용한 눈동자 검출 방법 (1) 이론\n",
    "\n",
    "- 눈동자를 어떻게 검출할까요? 쉽게 떠오르는 방법은 \"눈동자는 주변 부분에 비해 어두운 색을 지니고 있다.\"를 가정으로 반전된 1D 이미지에서 최댓값을 찾는 방법입니다.\n",
    "\n",
    "- 위 이미지의 하단 및 우측 1차원 벡터에서 최대값을 찾는 방법을 사용했습니다.\n",
    "\n",
    "- 물론 이와 같은 가우시안 블러가 모든 상황을 해결할 수 있는 방법은 아닙니다. 아래 이미지와 같이 눈 근처에 머리카락이 나타나서 눈 가장자리에 검정색이 큰 비중으로 등장하는 경우는 눈동자보다 가장자리에 수렴할 확률이 높습니다. 특히 머리가 긴 분들에게 자주 나타날 수 있는 현상입니다.\n",
    "\n",
    "- 2차원 블러 특성 이미지(feature image)에서는 눈동자가 2차원 정규분포로 나타나는 영역이 있는 것으로 보입니다. 하지만 1차원 누적 그래프를 보면 x축으로 2개의 봉우리를 가지는 것을 관찰할 수 있습니다. 최댓값을 찾는 알고리즘을 왼쪽부터 시작했다면 가장 왼쪽에서 만나는 255에 수렴할 것입니다.\n",
    "\n",
    "- 따라서 우리는 1D 누적 그래프와 2D 특성 이미지를 모두 사용합니다. 2D에서는 어떻게 최고점을 찾아갈 수 있을까요?\n",
    "\n",
    "\n",
    "    1. 이미지 중심점을 초기값으로 설정하겠습니다.\n",
    "        - 눈의 중심에 눈동자가 있을 확률이 높기 때문에 초기값으로 정하기에 아주 좋습니다.)\n",
    "    2. 중심점을 기준으로 작은 box를 설정합니다.\n",
    "        - box의 크기는 문제에 따라 적절한 값을 설정해야 합니다.\n",
    "        - 그림에서 회색박스를 생각하시면 됩니다.\n",
    "    3. box 내부의 pixel 값을 이용해서 '무게중심'을 찾습니다.\n",
    "        - 이 때 무게중심은 pixel intensity를 weight 로 사용할 수 있습니다.\n",
    "    4. 찾은 무게중심을 새로운 box의 중심으로 설정합니다.\n",
    "        - 이 단계에서 박스가 이동하게 됩니다. 이제 회색박스에서 초록색박스로 관심영역이 이동했습니다.\n",
    "    5. 다시 초록색 박스를 기준으로 2-4를 반복합니다.\n",
    "    6. 중심점이 수렴할 때 까지 2~5를 반복하면 수렴한 점의 위치로 눈동자를 찾을 수 있습니다.\n",
    "\n",
    "- 머신러닝에 이미 비슷한 알고리즘이 존재합니다. 현재 위치와 탐색반경을 가질 때 평균의 위치를 이용해서 반복적으로 움직이는 알고리즘인 Mean Shift 라는 알고리즘입니다.\n",
    "\n",
    "- mean shift는 탐색반경 내 데이터 포인트의 평균을 구하고 평균 위치로 이동을 반복해 가면서 데이터 분포의 중심으로 이동합니다.\n",
    "\n",
    "- mean shift를 이용해서 global optima를 찾을 수 있는 방법을 설명해주세요.: 그런 방법은 존재하지 않는다. mean shift는 local optima에만 수렴하기 때문이다.\n",
    "\n",
    "- mean shift 의 단점은 무엇인가요?: 초기값에 따라 수렴 위치가 달라진다. 항상 일정한 성능을 보장하기 힘들다.\n",
    "\n",
    "- mean shift는 컴퓨터 비전의 어떤 분야에 응용할 수 있나요?: Mean Shift는 물체추적(object tracking), 영상 세그멘테이션(segmentation), 데이터 클러스터링(clustering), 경계를 보존하는 영상 스무딩(smoothing) 등 다양하게 활용될 수 있다.\n",
    "\n",
    "- 1차원 데이터 분포에 mean shift를 적용하면 어떤 형태를 나타내는지 이야기해 봅시다.: 가우시안 분포에서 등산하듯이 위로 올라가는 형태를 나타냅니다."
   ]
  },
  {
   "cell_type": "markdown",
   "metadata": {},
   "source": [
    "# Mean-shift를 이용한 눈동자 검출 방법 (2) 실습\n",
    "\n",
    "- 눈동자를 검출하는 mean shift 기법을 코드로 구현해 봅시다. 오늘의 시작포인트는 바로 지난 노드에서 구현해 보았던 눈동자 찾기 실습코드입니다.\n",
    "\n",
    "- 해당 코드를 하나의 파일로 정리하여 eye_center_basic.py에 저장하였습니다. 이 코드를 이후 실습의 베이스라인으로 사용하겠습니다.\n",
    "\n",
    "- eye_center_basic.py 코드의 동작은 아래와 같이 확인해 볼 수 있습니다. show_substep argument의 옵션을 True로 주게 되면 매 스텝의 작동을 차례차례 확인해볼 수 있습니다. 옵션을 False로 주거나 생략(기본옵션)하면 최종 결과만 확인하게 됩니다.\n",
    "\n",
    "- 먼저, 눈 이미지를 low pass filter를 이용해서 smoothing 합니다. 저는 bilateral filter를 이용했습니다.\n",
    "\n",
    "- 다음으로 1차원 값으로 누적시킨 후 y 축 기준으로 최대값을 찾아서 y축의 중심점 좌표를 먼저 얻어냅니다. (y 축은 x 축에 비해 상대적으로 변화가 적기 때문에 간단하게 구현합니다.)\n",
    "\n",
    "- x축은 1차원 최댓값 지점을 기준으로 mean shift를 수행합니다. 양 끝단에 수렴하는 예외를 처리한 후 결과를 출력합니다.\n",
    "\n",
    "- 여전히 눈동자 중심은 아니어서 조금 아쉽습니다. 기존 머신러닝 기반 알고리즘으로는 성능을 큰 폭으로 향상시키기 어렵습니다. 하지만 예외 상황에 대해 더 강건한 모델을 만들 수 있는 장점이 있습니다. 일반화에 한 걸음 더 가까워지고 있습니다."
   ]
  },
  {
   "cell_type": "markdown",
   "metadata": {},
   "source": [
    "# 키포인트 검출 딥러닝 모델 만들기 (1) 데이터 확인\n",
    "\n",
    "- 더 나은 성능을 위해 딥러닝 모델을 만들어 보겠습니다. 지난 이론 시간에 배웠던 딥러닝 모델링 기법을 적용해 실제로 학습을 수행해보겠습니다.\n",
    "\n",
    "- 이번 단계에서는 대량의 눈동자 위치 라벨이 필요합니다. 앞에서 만든 coarse dataset 또는 직접 어노테이션 한 라벨이 10,000개 이상 있어야 성능을 확인할 수 있습니다.\n",
    "\n",
    "- 이전 스텝에서 다룬 눈동자 검출 방법을 LFW 데이터셋에 적용하여 필요한 만큼의 데이터셋을 생성해 봅시다. 데이터셋을 생성하는 코드 prepare_eye_dataset.py를 실행하면 아래 사용할 데이터셋이 LFW 데이터셋으로부터 가공 생성됩니다.\n",
    "\n",
    "- TensorFlow Hub에서 제공하는 pretrained image feature embedding을 가지고 fine tuning을 해보겠습니다.\n",
    "\n",
    "- 가지고 있는 데이터를 케라스 ImageDataGenerator 형식으로 읽습니다. 저는 라벨을 image 형태로 저장해 두었습니다.\n",
    "\n",
    "- train 데이터셋이 23,712쌍, val 데이터셋이 2,638쌍 생성될 것입니다.\n",
    "\n",
    "- 아래 코드에서는 image_generator, label generator를 학습할 수 있는 입출력 형식으로 편집합니다. 텐서플로우의 제너레이터(generator) 형식을 사용하고 있기 때문에 출력 형식도 맞추어 주겠습니다.\n",
    "\n",
    "- 학습 라벨을 만들 때 3개의 점을 label 이미지에 표시했습니다. 눈의 왼쪽 끝점을 1의 값으로, 오른쪽 끝점은 2의 값으로, 가장 중요한 눈 중심(눈동자)는 3으로 인코딩 했습니다. np.where() 함수로 이미지에서 좌표로 복원합니다.\n",
    "\n",
    "- 좌표로 복원할 때 eye_ls[1].mean() 으로 평균값을 구했습니다. 왜 그랬을까요? 어떤 장점을 활용하려고 한 걸까요?: 눈 크기가 이미지마다, 사람마다 다르기 때문에 반드시 resize를 해야 합니다. 이 때 라벨을 이미지에 하나의 점으로 표현하면 resize 과정에서 소실될 수 있습니다. 이런 단점을 극복하기 위해 라벨 이미지를 만들 때 gaussian smoothing을 적용해서 변화에 유연하게 대응 할 수 있도록 했습니다. 이 방법을 취하면 이후 augmentation을 구현할 때도 추가적인 노력없이 바로 라벨을 사용할 수 있습니다.\n",
    "\n",
    "- 만들어진 제너레이터로 데이터 포인트를 뽑아 관찰해 봅시다.\n",
    "\n",
    "- 120x80의 정해진 크기로 이미지가 잘 출력되고 라벨 또한 0~1 값으로 정규화(normalize) 되어 있는 것을 확인할 수 있습니다."
   ]
  },
  {
   "cell_type": "markdown",
   "metadata": {},
   "source": [
    "# 키포인트 검출 딥러닝 모델 만들기 (2) 모델 설계\n",
    "\n",
    "- 데이터가 준비되었으니 이제 네트워크를 디자인합니다. 우리는 데이터가 없는 상황이기 때문에 미리 학습된 모델을 적극적으로 활용해야 합니다. TensorFlow Hub에서 ResNet의 특성추출기 부분을 백본(backbone)으로 사용하겠습니다.\n",
    "\n",
    "- tf.keras.Sequential()을 이용해서 백본 네트워크와 fully connected layer를 쌓아서 아주 쉽게 모델을 완성할 수 있습니다. 데이터 제너레이터를 만들 때 출력을 6개((x, y) 좌표 2개 * 점 3개) 로 했기 때문에 num_classes 는 6으로 설정합니다.\n",
    "\n",
    "- 이 문제는 점을 맞는 위치로 추정하는 position regression 문제이기 때문에 loss와 metric을 각각 mse 와 mae 로 설정했습니다. mae 를 통해서 픽셀 위치가 평균적으로 얼마나 차이나는지 확인하면서 학습할 수 있습니다.\n",
    "\n",
    "- 학습률(learning rate)을 조절하는 함수도 제작해 줍니다. 저는 지수적으로 감소하게 만들었습니다.\n",
    "\n"
   ]
  },
  {
   "cell_type": "markdown",
   "metadata": {},
   "source": [
    "# 키포인트 검출 딥러닝 모델 만들기 (3) 평가\n",
    "\n",
    "- 검증(validation)용 데이터는 섞어줄(shuffle) 필요가 없기 때문에 shuffle=False 옵션을 추가했습니다.\n",
    "\n",
    "- 제너레이터를 만들고 evaluate_generator() 로 평가를 수행합니다.\n",
    "\n",
    "- 저는 평균 에러가 0.026 정도 나왔습니다. 우리가 찍은 점들은 120 픽셀을 기준으로 120*0.026 = 3.12 픽셀 정도 에러가 나는 것을 확인할 수 있습니다.\n",
    "\n",
    "- 실제로 이미지에 출력해보겠습니다.\n",
    "\n",
    "- 입력을 위해 이미지를 120x80 으로 resize 한 후, 배치(batch)를 나타낼 수 있는 4차원 텐서로 변경합니다. 우선 이미지 1장에 대해서 출력을 하려 하니 지금은 배치 크기(batch size)를 1로 만들면 되겠죠?\n",
    "\n",
    "- 출력결과를 뽑아보면 아래와 같이 나옵니다. 1행부터 좌측, 우측, 중앙 좌표를 나타냅니다.\n",
    "\n",
    "- 결과를 이미지에 출력해 볼까요? pt 값은 120x80 으로 뽑았는데 우리가 사용하는 데이터 크기는 60x40입니다. 따라서 pt 에 0.5 를 곱해서 그림에 출력합니다. (주의) pt값을 뽑을때의 이미지 크기 기준(120X80)은 고정이지만, 사용하는 데이터의 크기는 매번 달라질 것입니다. 보정치 설정에 유의해 주세요.\n",
    "\n",
    "- 눈의 왼쪽은 정말 잘 찾은 것 같아요. 반면 눈 중심과 오른쪽 위치는 5픽셀 정도의 오차를 보이는 것 같습니다. 더 정확한 성능(적은 에러)를 원한다면 데이터를 추가로 넣어야 할 것 같습니다."
   ]
  },
  {
   "cell_type": "code",
   "execution_count": 129,
   "metadata": {},
   "outputs": [],
   "source": [
    "import matplotlib.pylab as plt\n",
    "import tensorflow as tf\n",
    "import os\n",
    "from os.path import join\n",
    "from glob import glob\n",
    "from tqdm import tqdm\n",
    "import numpy as np\n",
    "import cv2\n",
    "import math\n",
    "import dlib"
   ]
  },
  {
   "cell_type": "code",
   "execution_count": 130,
   "metadata": {},
   "outputs": [],
   "source": [
    "import tensorflow_hub as hub\n",
    "from tensorflow.keras import layers\n",
    "from tensorflow.keras import models\n",
    "from tensorflow.keras.callbacks import LearningRateScheduler"
   ]
  },
  {
   "cell_type": "code",
   "execution_count": 131,
   "metadata": {},
   "outputs": [
    {
     "name": "stdout",
     "output_type": "stream",
     "text": [
      "23712 23712\n",
      "Found 23712 images belonging to 1 classes.\n",
      "Found 23712 images belonging to 1 classes.\n"
     ]
    }
   ],
   "source": [
    "list_image = sorted(glob('./data/train/input/img/*.png'))\n",
    "list_label = sorted(glob('./data/train/label/mask/*.png'))\n",
    "print (len(list_image), len(list_label))\n",
    "\n",
    "IMAGE_SHAPE = (80, 120)\n",
    "data_root = './data/train/input'\n",
    "label_root = './data/train/label'\n",
    "\n",
    "image_generator = tf.keras.preprocessing.image.ImageDataGenerator()\n",
    "label_generator = tf.keras.preprocessing.image.ImageDataGenerator()\n",
    "image_data = image_generator.flow_from_directory(str(data_root), class_mode=None, target_size=IMAGE_SHAPE, batch_size=32)\n",
    "label_data = label_generator.flow_from_directory(str(label_root), class_mode=None, target_size=IMAGE_SHAPE, batch_size=32)"
   ]
  },
  {
   "cell_type": "code",
   "execution_count": 132,
   "metadata": {},
   "outputs": [],
   "source": [
    "def user_generation(train_generator, label_generator):\n",
    "    h, w = train_generator.target_size\n",
    "    for images, labels in zip(train_generator, label_generator):\n",
    "        images /= 255.\n",
    "        images = images[..., ::-1] # rgb to bgr\n",
    "\n",
    "        list_point_labels = []\n",
    "        for img, label in zip(images, labels):\n",
    "\n",
    "            eye_ls = np.where(label==1) # leftside\n",
    "            eye_rs = np.where(label==2) # rightside\n",
    "            eye_center = np.where(label==3)\n",
    "\n",
    "            lx, ly = [eye_ls[1].mean(), eye_ls[0].mean()]\n",
    "            rx, ry = [eye_rs[1].mean(), eye_rs[0].mean()]\n",
    "            cx, cy = [eye_center[1].mean(), eye_center[0].mean()]\n",
    "\n",
    "            if len(eye_ls[0])==0 or len(eye_ls[1])==0:\n",
    "                lx, ly = [0, 0]\n",
    "            if len(eye_rs[0])==0 or len(eye_rs[1])==0:\n",
    "                rx, ry = [w, h]\n",
    "            if len(eye_center[0])==0 or len(eye_center[1])==0:\n",
    "                cx, cy = [0, 0]\n",
    "\n",
    "            np_point_label = np.array([lx/w,ly/h,rx/w,ry/h,cx/w,cy/h], dtype=np.float32)\n",
    "\n",
    "            list_point_labels.append(np_point_label)\n",
    "        np_point_labels = np.array(list_point_labels)\n",
    "        yield (images, np_point_labels)"
   ]
  },
  {
   "cell_type": "code",
   "execution_count": 133,
   "metadata": {
    "scrolled": true
   },
   "outputs": [
    {
     "name": "stdout",
     "output_type": "stream",
     "text": [
      "(80, 120, 3) [0.         0.         1.         1.         0.8833333  0.05617871]\n",
      "(80, 120, 3) [0.         0.         1.         1.         0.04788961 0.06623377]\n"
     ]
    },
    {
     "name": "stderr",
     "output_type": "stream",
     "text": [
      "/home/aiffel0042/anaconda3/envs/aiffel/lib/python3.7/site-packages/ipykernel_launcher.py:14: RuntimeWarning: Mean of empty slice.\n",
      "  \n",
      "/home/aiffel0042/anaconda3/envs/aiffel/lib/python3.7/site-packages/ipykernel_launcher.py:15: RuntimeWarning: Mean of empty slice.\n",
      "  from ipykernel import kernelapp as app\n"
     ]
    }
   ],
   "source": [
    "user_train_generator = user_generation(image_data, label_data)\n",
    "for i in range(2):\n",
    "    dd = next(user_train_generator)\n",
    "    print (dd[0][0].shape, dd[1][0])"
   ]
  },
  {
   "cell_type": "code",
   "execution_count": 134,
   "metadata": {},
   "outputs": [
    {
     "name": "stdout",
     "output_type": "stream",
     "text": [
      "WARNING:tensorflow:6 out of the last 6 calls to <function recreate_function.<locals>.restored_function_body at 0x7f765c602830> triggered tf.function retracing. Tracing is expensive and the excessive number of tracings could be due to (1) creating @tf.function repeatedly in a loop, (2) passing tensors with different shapes, (3) passing Python objects instead of tensors. For (1), please define your @tf.function outside of the loop. For (2), @tf.function has experimental_relax_shapes=True option that relaxes argument shapes that can avoid unnecessary retracing. For (3), please refer to https://www.tensorflow.org/tutorials/customization/performance#python_or_tensor_args and https://www.tensorflow.org/api_docs/python/tf/function for  more details.\n"
     ]
    },
    {
     "name": "stderr",
     "output_type": "stream",
     "text": [
      "WARNING:tensorflow:6 out of the last 6 calls to <function recreate_function.<locals>.restored_function_body at 0x7f765c602830> triggered tf.function retracing. Tracing is expensive and the excessive number of tracings could be due to (1) creating @tf.function repeatedly in a loop, (2) passing tensors with different shapes, (3) passing Python objects instead of tensors. For (1), please define your @tf.function outside of the loop. For (2), @tf.function has experimental_relax_shapes=True option that relaxes argument shapes that can avoid unnecessary retracing. For (3), please refer to https://www.tensorflow.org/tutorials/customization/performance#python_or_tensor_args and https://www.tensorflow.org/api_docs/python/tf/function for  more details.\n"
     ]
    },
    {
     "name": "stdout",
     "output_type": "stream",
     "text": [
      "(32, 2048)\n",
      "Model: \"sequential_5\"\n",
      "_________________________________________________________________\n",
      "Layer (type)                 Output Shape              Param #   \n",
      "=================================================================\n",
      "keras_layer_5 (KerasLayer)   (None, 2048)              23564800  \n",
      "_________________________________________________________________\n",
      "dropout_2 (Dropout)          (None, 2048)              0         \n",
      "_________________________________________________________________\n",
      "dense_5 (Dense)              (None, 6)                 12294     \n",
      "=================================================================\n",
      "Total params: 23,577,094\n",
      "Trainable params: 12,294\n",
      "Non-trainable params: 23,564,800\n",
      "_________________________________________________________________\n"
     ]
    }
   ],
   "source": [
    "\n",
    "''' tf hub feature_extractor '''\n",
    "feature_extractor_url = \"https://tfhub.dev/google/imagenet/resnet_v2_50/feature_vector/4\"\n",
    "feature_extractor_layer = hub.KerasLayer(feature_extractor_url,\n",
    "                                            input_shape=(80,120,3))\n",
    "\n",
    "image_batch = next(image_data)\n",
    "feature_batch = feature_extractor_layer(image_batch)\n",
    "print(feature_batch.shape)\n",
    "\n",
    "num_classes = 6\n",
    "\n",
    "feature_extractor_layer.trainable = False\n",
    "model = tf.keras.Sequential([\n",
    "    feature_extractor_layer,\n",
    "    #layers.Dense(1024, activation='relu'),\n",
    "    layers.Dropout(0.5),\n",
    "    layers.Dense(num_classes, activation='sigmoid'),\n",
    "    #layers.Dense(num_classes, activation='relu'),\n",
    "])\n",
    "\n",
    "model.summary()"
   ]
  },
  {
   "cell_type": "code",
   "execution_count": 135,
   "metadata": {},
   "outputs": [],
   "source": [
    "model.compile(\n",
    "  optimizer=tf.keras.optimizers.Adam(),\n",
    "  loss='mse',\n",
    "  metrics=['mae']\n",
    "  )"
   ]
  },
  {
   "cell_type": "code",
   "execution_count": 136,
   "metadata": {},
   "outputs": [],
   "source": [
    "def lr_step_decay(epoch):\n",
    "    init_lr = 0.0005 #self.flag.initial_learning_rate\n",
    "    lr_decay = 0.5 #self.flag.learning_rate_decay_factor\n",
    "    epoch_per_decay = 2 #self.flag.epoch_per_decay\n",
    "    lrate = init_lr * math.pow(lr_decay, math.floor((1+epoch)/epoch_per_decay))\n",
    "    return lrate"
   ]
  },
  {
   "cell_type": "code",
   "execution_count": 140,
   "metadata": {
    "scrolled": true
   },
   "outputs": [
    {
     "name": "stdout",
     "output_type": "stream",
     "text": [
      "23712 32 741\n",
      "Epoch 1/20\n",
      "  7/741 [..............................] - ETA: 13s - loss: 0.0129 - mae: 0.0516"
     ]
    },
    {
     "name": "stderr",
     "output_type": "stream",
     "text": [
      "/home/aiffel0042/anaconda3/envs/aiffel/lib/python3.7/site-packages/ipykernel_launcher.py:14: RuntimeWarning: Mean of empty slice.\n",
      "  \n",
      "/home/aiffel0042/anaconda3/envs/aiffel/lib/python3.7/site-packages/ipykernel_launcher.py:15: RuntimeWarning: Mean of empty slice.\n",
      "  from ipykernel import kernelapp as app\n"
     ]
    },
    {
     "name": "stdout",
     "output_type": "stream",
     "text": [
      "741/741 [==============================] - 14s 19ms/step - loss: 0.0135 - mae: 0.0530\n",
      "Epoch 2/20\n",
      "741/741 [==============================] - 14s 19ms/step - loss: 0.0131 - mae: 0.0521\n",
      "Epoch 3/20\n",
      "741/741 [==============================] - 14s 19ms/step - loss: 0.0129 - mae: 0.0518\n",
      "Epoch 4/20\n",
      "741/741 [==============================] - 14s 19ms/step - loss: 0.0127 - mae: 0.0514\n",
      "Epoch 5/20\n",
      "741/741 [==============================] - 14s 19ms/step - loss: 0.0126 - mae: 0.0512\n",
      "Epoch 6/20\n",
      "741/741 [==============================] - 14s 19ms/step - loss: 0.0125 - mae: 0.0510\n",
      "Epoch 7/20\n",
      "741/741 [==============================] - 14s 19ms/step - loss: 0.0125 - mae: 0.0509\n",
      "Epoch 8/20\n",
      "741/741 [==============================] - 14s 19ms/step - loss: 0.0124 - mae: 0.0508\n",
      "Epoch 9/20\n",
      "741/741 [==============================] - 14s 19ms/step - loss: 0.0124 - mae: 0.0507\n",
      "Epoch 10/20\n",
      "741/741 [==============================] - 14s 19ms/step - loss: 0.0124 - mae: 0.0507\n",
      "Epoch 11/20\n",
      "741/741 [==============================] - 14s 19ms/step - loss: 0.0124 - mae: 0.0507\n",
      "Epoch 12/20\n",
      "741/741 [==============================] - 14s 19ms/step - loss: 0.0123 - mae: 0.0506\n",
      "Epoch 13/20\n",
      "741/741 [==============================] - 14s 19ms/step - loss: 0.0123 - mae: 0.0506\n",
      "Epoch 14/20\n",
      "741/741 [==============================] - 14s 19ms/step - loss: 0.0123 - mae: 0.0506\n",
      "Epoch 15/20\n",
      "741/741 [==============================] - 14s 19ms/step - loss: 0.0123 - mae: 0.0506\n",
      "Epoch 16/20\n",
      "741/741 [==============================] - 14s 19ms/step - loss: 0.0123 - mae: 0.0506\n",
      "Epoch 17/20\n",
      "741/741 [==============================] - 14s 19ms/step - loss: 0.0123 - mae: 0.0505\n",
      "Epoch 18/20\n",
      "741/741 [==============================] - 14s 19ms/step - loss: 0.0123 - mae: 0.0506\n",
      "Epoch 19/20\n",
      "741/741 [==============================] - 14s 19ms/step - loss: 0.0123 - mae: 0.0505\n",
      "Epoch 20/20\n",
      "741/741 [==============================] - 14s 19ms/step - loss: 0.0123 - mae: 0.0505\n"
     ]
    }
   ],
   "source": [
    "steps_per_epoch = image_data.samples//image_data.batch_size\n",
    "print (image_data.samples, image_data.batch_size, steps_per_epoch)\n",
    "# 20160 32 630 -> 데이터를 batch_size 의 배수로 준비해 주세요.\n",
    "\n",
    "learning_rate = LearningRateScheduler(lr_step_decay)\n",
    "\n",
    "history = model.fit(user_train_generator, epochs=20,\n",
    "                    steps_per_epoch=steps_per_epoch,\n",
    "                    callbacks = [learning_rate]\n",
    "                    )"
   ]
  },
  {
   "cell_type": "code",
   "execution_count": 141,
   "metadata": {},
   "outputs": [
    {
     "data": {
      "image/png": "[encoded data removed]",
      "text/plain": [
       "<Figure size 432x288 with 2 Axes>"
      ]
     },
     "metadata": {
      "needs_background": "light"
     },
     "output_type": "display_data"
    }
   ],
   "source": [
    "%matplotlib inline\n",
    "import matplotlib.pyplot as plt\n",
    "\n",
    "fig, loss_ax = plt.subplots()\n",
    "\n",
    "acc_ax = loss_ax.twinx()\n",
    "\n",
    "loss_ax.plot(history.history['loss'], 'r', label='loss')\n",
    "acc_ax.plot(history.history['mae'], 'b', label='mae')\n",
    "\n",
    "loss_ax.set_xlabel('epoch')\n",
    "loss_ax.set_ylabel('loss')\n",
    "\n",
    "loss_ax.legend(loc='upper left')\n",
    "acc_ax.legend(loc='lower left')\n",
    "plt.savefig('result.png')\n",
    "plt.show()"
   ]
  },
  {
   "cell_type": "code",
   "execution_count": 142,
   "metadata": {},
   "outputs": [
    {
     "name": "stdout",
     "output_type": "stream",
     "text": [
      "Found 2640 images belonging to 1 classes.\n",
      "Found 2638 images belonging to 1 classes.\n"
     ]
    }
   ],
   "source": [
    "IMAGE_SHAPE = (80, 120)\n",
    "val_data_root = './data/val/input'\n",
    "val_label_root = './data/val/label'\n",
    "\n",
    "image_generator_val = tf.keras.preprocessing.image.ImageDataGenerator()\n",
    "label_generator_val = tf.keras.preprocessing.image.ImageDataGenerator()\n",
    "image_data_val = image_generator.flow_from_directory(str(val_data_root), class_mode=None, target_size=IMAGE_SHAPE, shuffle=False)\n",
    "label_data_val = label_generator.flow_from_directory(str(val_label_root), class_mode=None, target_size=IMAGE_SHAPE, shuffle=False)"
   ]
  },
  {
   "cell_type": "code",
   "execution_count": 151,
   "metadata": {
    "scrolled": true
   },
   "outputs": [
    {
     "name": "stderr",
     "output_type": "stream",
     "text": [
      "/home/aiffel0042/anaconda3/envs/aiffel/lib/python3.7/site-packages/ipykernel_launcher.py:14: RuntimeWarning: Mean of empty slice.\n",
      "  \n",
      "/home/aiffel0042/anaconda3/envs/aiffel/lib/python3.7/site-packages/ipykernel_launcher.py:15: RuntimeWarning: Mean of empty slice.\n",
      "  from ipykernel import kernelapp as app\n"
     ]
    },
    {
     "name": "stdout",
     "output_type": "stream",
     "text": [
      "0.012285141274333 0.05068657919764519\n"
     ]
    }
   ],
   "source": [
    "user_val_generator = user_generation(image_data_val, label_data_val)\n",
    "mse, mae = model.evaluate_generator(user_val_generator, image_data_val.n // 32)\n",
    "print(mse, mae)"
   ]
  },
  {
   "cell_type": "code",
   "execution_count": 185,
   "metadata": {},
   "outputs": [
    {
     "data": {
      "image/png": "[encoded data removed]",
      "text/plain": [
       "<Figure size 432x288 with 1 Axes>"
      ]
     },
     "metadata": {
      "needs_background": "light"
     },
     "output_type": "display_data"
    }
   ],
   "source": [
    "# img test\n",
    "#img = cv2.imread('./data/val/input/img/eye_000410_l.png')\n",
    "img = cv2.imread('./data/val/input/img/test1_r.png')\n",
    "plt.imshow(cv2.cvtColor(img, cv2.COLOR_BGR2RGB))\n",
    "plt.show()"
   ]
  },
  {
   "cell_type": "code",
   "execution_count": 265,
   "metadata": {},
   "outputs": [
    {
     "name": "stdout",
     "output_type": "stream",
     "text": [
      "[[[7.2335780e-08 1.2194247e-08]\n",
      "  [1.2000000e+02 8.0000000e+01]\n",
      "  [5.3898136e+01 2.6844950e+01]]]\n"
     ]
    }
   ],
   "source": [
    "np_inputs = np.expand_dims(cv2.resize(img, (120, 80)), axis=0)\n",
    "preds = model.predict(np_inputs/255., 1)\n",
    "\n",
    "#repred = preds.reshape((1, 3, 2))\n",
    "#repred[:,:,0] *= 120 # 120\n",
    "#repred[:,:,1] *= 80 # 80\n",
    "\n",
    "repred = preds.reshape((1, 3, 2))\n",
    "repred[:,:,0] *= 120 # 120\n",
    "repred[:,:,1] *= 80 # 80\n",
    "\n",
    "\n",
    "print (repred)"
   ]
  },
  {
   "cell_type": "code",
   "execution_count": 266,
   "metadata": {},
   "outputs": [
    {
     "name": "stdout",
     "output_type": "stream",
     "text": [
      "[13. 13.]\n",
      "[48. 37.]\n",
      "[29. 21.]\n"
     ]
    },
    {
     "data": {
      "image/png": "[encoded data removed]",
      "text/plain": [
       "<Figure size 432x288 with 1 Axes>"
      ]
     },
     "metadata": {
      "needs_background": "light"
     },
     "output_type": "display_data"
    }
   ],
   "source": [
    "show = img.copy()\n",
    "for pt in repred[0]:\n",
    "    pt += 46\n",
    "    pt *= 0.29\n",
    "    print (pt.round())\n",
    "    show = cv2.circle(show, tuple((pt).astype(int)), 2, (0,255,255), -1)\n",
    "\n",
    "plt.imshow(cv2.cvtColor(show, cv2.COLOR_BGR2RGB))\n",
    "plt.show()"
   ]
  }
 ],
 "metadata": {
  "kernelspec": {
   "display_name": "aiffel",
   "language": "python",
   "name": "aiffel"
  },
  "language_info": {
   "codemirror_mode": {
    "name": "ipython",
    "version": 3
   },
   "file_extension": ".py",
   "mimetype": "text/x-python",
   "name": "python",
   "nbconvert_exporter": "python",
   "pygments_lexer": "ipython3",
   "version": "3.7.6"
  }
 },
 "nbformat": 4,
 "nbformat_minor": 4
}
